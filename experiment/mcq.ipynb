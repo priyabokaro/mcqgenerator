{
 "cells": [
  {
   "cell_type": "code",
   "execution_count": null,
   "metadata": {},
   "outputs": [],
   "source": []
  }
 ],
 "metadata": {
  "kernelspec": {
   "display_name": "Python 3.9.12 (conda)",
   "language": "python",
   "name": "python3"
  },
  "language_info": {
   "name": "python",
   "version": "3.9.12"
  },
  "orig_nbformat": 4,
  "vscode": {
   "interpreter": {
    "hash": "93092c9d833ee55988b31da46b93c34d260f257d3b71362448fd6eb9492e4a76"
   }
  }
 },
 "nbformat": 4,
 "nbformat_minor": 2
}
